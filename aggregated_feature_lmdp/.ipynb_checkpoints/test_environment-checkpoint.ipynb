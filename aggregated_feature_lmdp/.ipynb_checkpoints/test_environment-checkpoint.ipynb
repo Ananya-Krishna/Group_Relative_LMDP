{
 "cells": [
  {
   "cell_type": "markdown",
   "id": "3c3f7357",
   "metadata": {},
   "source": [
    " ### Test the code that generates the linear MDP environment "
   ]
  },
  {
   "cell_type": "code",
   "execution_count": 1,
   "id": "56286fc4",
   "metadata": {},
   "outputs": [
    {
     "name": "stdout",
     "output_type": "stream",
     "text": [
      "(5, 100, 5, 100)\n",
      "True\n"
     ]
    }
   ],
   "source": [
    "import numpy as np \n",
    "from lincomblock import LinCombLock, MisLinCombLock\n",
    "import agent as agent \n",
    "from experiment import Run_experiment\n",
    " \n",
    "\n",
    "num_state = 100\n",
    "num_action = 5\n",
    "horizon = 5\n",
    "d = 10\n",
    "\n",
    "num_epi = int(1000)\n",
    "t = num_epi * horizon\n",
    "\n",
    "      \n",
    "model = LinCombLock(S=num_state, A = num_action, H = horizon, d = d)\n",
    "print(model.check_prob())\n",
    "\n"
   ]
  },
  {
   "cell_type": "code",
   "execution_count": 2,
   "id": "b121a420",
   "metadata": {},
   "outputs": [
    {
     "name": "stdout",
     "output_type": "stream",
     "text": [
      "[0.0017858587631881598, 0.002702258987356011, 0.0034807264436940077, 0.004305088555822097, 0.005200422686110895, 0.0060749530982695974, 0.0067397231840690885, 0.00732662412075645, 0.007989617810519767]\n",
      "0.0018028573505775693\n",
      "[2.0, 3.0, 4.0, 5.0, 6.0, 7.0, 8.0, 9.0, 10.0]\n",
      "0.9650158615886766\n",
      "we have finished0 episodes of LSVI-eps-greedy\n",
      "[780.1227380129545, 781.1227380129545, 782.1227380129545, 782.1228508902805, 783.1228508902805, 783.1229637676064, 784.1229637676064, 784.1233163704366, 784.1236040385307]\n",
      "0.7851236040385308\n",
      "beta in LSVI_UCB: 0.6\n",
      "we have finished 0 episodes of LSVI-UCB\n",
      "[943.0315494840656, 943.0321604030122, 944.0321604030122, 945.0321604030122, 946.0321604030122, 947.0321604030122, 948.0321604030122, 949.0321604030122, 950.0321604030122]\n",
      "0.9510321604030122\n"
     ]
    }
   ],
   "source": [
    "_,_,reward_random = agent.random_exp(model, num_epi)\n",
    "print(reward_random[1:10])\n",
    "print(reward_random[-1] / num_epi)\n",
    "\n",
    "\n",
    "_, _, reward_opt = agent.optimal_agent(model, num_epi)\n",
    "print(reward_opt[1:10])\n",
    "print(reward_opt[-1] / num_epi)\n",
    "\n",
    "_,_, reward_epsilon = agent.eps_greedy_exp(model, lam=1, num_epi=num_epi, eps=0.05)\n",
    "print(reward_epsilon[-10:-1])\n",
    "print(reward_epsilon[-1] / num_epi)\n",
    "\n",
    "_,episode_reward0,reward_lsvi0 = agent.lsvi_ucb(model, lam=1, num_epi=num_epi, p=0.01, c = 0.001, set_beta=0.6)\n",
    "print(reward_lsvi0[-10:-1])\n",
    "print(reward_lsvi0[-1] / num_epi)\n",
    "\n"
   ]
  },
  {
   "cell_type": "code",
   "execution_count": null,
   "id": "313abf23",
   "metadata": {},
   "outputs": [
    {
     "name": "stdout",
     "output_type": "stream",
     "text": [
      "(5, 10, 5, 10)\n",
      "Trial: 1\n",
      "we have finished 0 episodes of LSVI-eps-greedy\n"
     ]
    }
   ],
   "source": [
    "Run_experiment(10,5,5,5,1000,2)\n",
    "\n",
    "Run_experiment(10,5,5,5,1000,2,0.025)\n",
    "             \n"
   ]
  },
  {
   "cell_type": "code",
   "execution_count": null,
   "id": "f43f887d",
   "metadata": {},
   "outputs": [
    {
     "name": "stdout",
     "output_type": "stream",
     "text": [
      "(10, 100, 5, 100)\n",
      "True\n",
      "[1.000250185359698, 2.0002501853596977, 2.001313521588302, 2.0024127485361145, 3.0024127485361145, 4.0024127485361145, 5.0024127485361145, 5.003239305042112, 6.003239305042112]\n",
      "optimal reward 0.572426859597871\n",
      "Optimal agent Total run time: 0.5685264430001098\n",
      "LSVI-UCB agent Total run time: 0.0001670219999141409\n",
      "beta in LSVI_UCB: 0.041001515620179535\n",
      "we have finished 0 episodes of LSVI-UCB\n",
      "[587.4312579882903, 588.4312579882903, 589.4312579882903, 589.4322296372624, 590.4322296372624, 591.4322296372624, 591.4324979382759, 592.4324979382759, 593.4324979382759]\n",
      "0.5944324979382759\n",
      "LSVI-UCB agent Total run time: 89.48414072500009\n",
      "beta in LSVI_UCB: 0.3\n",
      "we have finished 0 episodes of LSVI-UCB\n",
      "[563.4752534658423, 564.4752534658423, 564.4759367507023, 565.4759367507023, 566.4759367507023, 566.4766545320728, 566.4779219388081, 567.4779219388081, 567.478074155521]\n",
      "UCB_reward, should compare with optimal 0.568478074155521\n",
      "LSVI-UCB agent Total run time: 83.97497967899994\n",
      "we have finished0 episodes of LSVI-eps-greedy\n"
     ]
    }
   ],
   "source": [
    "# try misspecified model \n",
    "\n",
    "import timeit\n",
    "import numpy as np \n",
    "from lincomblock import LinCombLock \n",
    "import agent as agent \n",
    "\n",
    "\n",
    "num_state = 100\n",
    "num_action = 5\n",
    "horizon = 10\n",
    "d = 10\n",
    "mis_prob = 0.1\n",
    "num_epi = int(1000)\n",
    "t = num_epi * horizon\n",
    "\n",
    "      \n",
    "model = MisLinCombLock(S=num_state, A = num_action, H = horizon, d = d, mis_prob = mis_prob)\n",
    "print(model.check_prob())\n",
    "\n",
    "start = timeit.default_timer()\n",
    "_, _, reward_opt = agent.optimal_agent(model, num_epi)\n",
    "print(reward_opt[1:10])\n",
    "print(\"optimal reward\", reward_opt[-1] / num_epi)\n",
    "\n",
    "stop1 = timeit.default_timer()\n",
    "\n",
    "print('Optimal agent Total run time:', stop1 - start)\n",
    "\n",
    "# _,episode_reward0,reward_lsvi0 = agent.lsvi_ucb(model, lam=1, num_epi=num_epi, p=0.01, c = 0.001, set_beta=-0.2)\n",
    "# print(reward_lsvi0[-10:-1])\n",
    "# print(reward_lsvi0[-1] / num_epi)\n",
    "\n",
    "stop2 = timeit.default_timer()\n",
    "\n",
    "print('LSVI-UCB agent Total run time:', stop2 - stop1)\n",
    "\n",
    "\n",
    "_,episode_reward1,reward_lsvi1 = agent.lsvi_ucb(model, lam=1, num_epi=num_epi, p=0.01, c = 0.0001, set_beta=-0.2)\n",
    "print(reward_lsvi1[-10:-1])\n",
    "print(reward_lsvi1[-1] / num_epi)\n",
    "\n",
    "stop3 = timeit.default_timer()\n",
    "\n",
    "print('LSVI-UCB agent Total run time:', stop3 - stop2)\n",
    "\n",
    "_,episode_reward2,reward_lsvi2 = agent.lsvi_ucb(model, lam=1, num_epi=num_epi, p=0.01, c = 0.0001, set_beta=0.3)\n",
    "print(reward_lsvi2[-10:-1])\n",
    "print(\"UCB_reward, should compare with optimal\", reward_lsvi2[-1] / num_epi)\n",
    "\n",
    "stop4 = timeit.default_timer()\n",
    "\n",
    "print('LSVI-UCB agent Total run time:', stop4 - stop3)\n",
    "\n",
    "\n",
    "_,_, reward_epsilon = agent.eps_greedy_exp(model, lam=1, num_epi=num_epi, eps=0.1)\n",
    "print(reward_epsilon[-10:-1])\n",
    "print(reward_epsilon[-1] / num_epi)\n",
    "             \n",
    "stop5 = timeit.default_timer()\n",
    "print('LSVI-esp-greedy agent Total run time:', stop5 - stop4)"
   ]
  },
  {
   "cell_type": "code",
   "execution_count": 4,
   "id": "31d15834",
   "metadata": {},
   "outputs": [
    {
     "name": "stdout",
     "output_type": "stream",
     "text": [
      "we have finished __ episodes of LSVI-eps-greedy 0\n",
      "we have finished __ episodes of LSVI-eps-greedy 1000\n",
      "[1213.0575291781083, 1213.0585798673426, 1214.0585798673426, 1215.0585798673426, 1216.0585798673426, 1217.0585798673426, 1218.0585798673426, 1218.060079446248, 1218.062182146227]\n",
      "0.6095310910731135\n"
     ]
    }
   ],
   "source": []
  },
  {
   "cell_type": "code",
   "execution_count": 2,
   "id": "88e37af1",
   "metadata": {},
   "outputs": [
    {
     "name": "stdout",
     "output_type": "stream",
     "text": [
      "[2.0, 3.0, 4.0, 4.001039362039408, 5.001039362039408, 6.001039362039408, 7.001039362039408, 8.001039362039407, 9.001039362039407]\n",
      "0.9160858152305271\n",
      "beta in LSVI_UCB: 0.2\n",
      "we have finished __ episodes 0\n",
      "we have finished __ episodes 200\n",
      "we have finished __ episodes 400\n",
      "we have finished __ episodes 600\n",
      "we have finished __ episodes 800\n",
      "we have finished __ episodes 1000\n",
      "we have finished __ episodes 1200\n",
      "we have finished __ episodes 1400\n",
      "we have finished __ episodes 1600\n",
      "we have finished __ episodes 1800\n",
      "we have finished __ episodes 2000\n",
      "we have finished __ episodes 2200\n",
      "we have finished __ episodes 2400\n",
      "we have finished __ episodes 2600\n",
      "we have finished __ episodes 2800\n",
      "we have finished __ episodes 3000\n",
      "we have finished __ episodes 3200\n",
      "we have finished __ episodes 3400\n",
      "we have finished __ episodes 3600\n",
      "we have finished __ episodes 3800\n",
      "we have finished __ episodes 4000\n",
      "we have finished __ episodes 4200\n",
      "we have finished __ episodes 4400\n",
      "we have finished __ episodes 4600\n",
      "we have finished __ episodes 4800\n",
      "[4556.461643085399, 4557.461643085399, 4558.461643085399, 4559.461643085399, 4560.461643085399, 4561.461643085399, 4562.461643085399, 4563.461643085399, 4564.461643085399]\n",
      "0.9130923286170799\n",
      "LSVI-UCB agent Total run time: 1796.176926901\n",
      "beta in LSVI_UCB: 0.4\n",
      "we have finished __ episodes 0\n",
      "we have finished __ episodes 200\n",
      "we have finished __ episodes 400\n",
      "we have finished __ episodes 600\n",
      "we have finished __ episodes 800\n",
      "we have finished __ episodes 1000\n",
      "we have finished __ episodes 1200\n",
      "we have finished __ episodes 1400\n",
      "we have finished __ episodes 1600\n",
      "we have finished __ episodes 1800\n",
      "we have finished __ episodes 2000\n",
      "we have finished __ episodes 2200\n",
      "we have finished __ episodes 2400\n",
      "we have finished __ episodes 2600\n",
      "we have finished __ episodes 2800\n",
      "we have finished __ episodes 3000\n",
      "we have finished __ episodes 3200\n",
      "we have finished __ episodes 3400\n",
      "we have finished __ episodes 3600\n",
      "we have finished __ episodes 3800\n",
      "we have finished __ episodes 4000\n",
      "we have finished __ episodes 4200\n",
      "we have finished __ episodes 4400\n",
      "we have finished __ episodes 4600\n",
      "we have finished __ episodes 4800\n",
      "[4527.492166883469, 4528.492166883469, 4529.492166883469, 4530.492166883469, 4531.492166883469, 4532.492166883469, 4532.492271307591, 4533.492271307591, 4534.492271307591]\n",
      "0.9068986463983256\n",
      "LSVI-UCB agent Total run time: 1789.017297629\n",
      "beta in LSVI_UCB: 0.4\n",
      "we have finished __ episodes 0\n",
      "we have finished __ episodes 200\n",
      "we have finished __ episodes 400\n",
      "we have finished __ episodes 600\n",
      "we have finished __ episodes 800\n",
      "we have finished __ episodes 1000\n",
      "we have finished __ episodes 1200\n",
      "we have finished __ episodes 1400\n",
      "we have finished __ episodes 1600\n",
      "we have finished __ episodes 1800\n",
      "we have finished __ episodes 2000\n",
      "we have finished __ episodes 2200\n",
      "we have finished __ episodes 2400\n",
      "we have finished __ episodes 2600\n",
      "we have finished __ episodes 2800\n",
      "we have finished __ episodes 3000\n",
      "we have finished __ episodes 3200\n",
      "we have finished __ episodes 3400\n",
      "we have finished __ episodes 3600\n",
      "we have finished __ episodes 3800\n",
      "we have finished __ episodes 4000\n",
      "we have finished __ episodes 4200\n",
      "we have finished __ episodes 4400\n",
      "we have finished __ episodes 4600\n",
      "we have finished __ episodes 4800\n"
     ]
    },
    {
     "ename": "NameError",
     "evalue": "name 'reward_lsvi4' is not defined",
     "output_type": "error",
     "traceback": [
      "\u001b[0;31m---------------------------------------------------------------------------\u001b[0m",
      "\u001b[0;31mNameError\u001b[0m                                 Traceback (most recent call last)",
      "\u001b[0;32m<ipython-input-2-b25a591c16e3>\u001b[0m in \u001b[0;36m<module>\u001b[0;34m\u001b[0m\n\u001b[1;32m     27\u001b[0m \u001b[0;34m\u001b[0m\u001b[0m\n\u001b[1;32m     28\u001b[0m \u001b[0m_\u001b[0m\u001b[0;34m,\u001b[0m\u001b[0mepisode_reward3\u001b[0m\u001b[0;34m,\u001b[0m\u001b[0mreward_lsvi3\u001b[0m \u001b[0;34m=\u001b[0m \u001b[0magent\u001b[0m\u001b[0;34m.\u001b[0m\u001b[0mlsvi_ucb\u001b[0m\u001b[0;34m(\u001b[0m\u001b[0mmodel\u001b[0m\u001b[0;34m,\u001b[0m \u001b[0mlam\u001b[0m\u001b[0;34m=\u001b[0m\u001b[0;36m1\u001b[0m\u001b[0;34m,\u001b[0m \u001b[0mnum_epi\u001b[0m\u001b[0;34m=\u001b[0m\u001b[0mnum_epi\u001b[0m\u001b[0;34m,\u001b[0m \u001b[0mp\u001b[0m\u001b[0;34m=\u001b[0m\u001b[0;36m0.01\u001b[0m\u001b[0;34m,\u001b[0m \u001b[0mc\u001b[0m \u001b[0;34m=\u001b[0m \u001b[0;36m0.0001\u001b[0m\u001b[0;34m,\u001b[0m \u001b[0mset_beta\u001b[0m\u001b[0;34m=\u001b[0m\u001b[0;36m0.4\u001b[0m\u001b[0;34m)\u001b[0m\u001b[0;34m\u001b[0m\u001b[0;34m\u001b[0m\u001b[0m\n\u001b[0;32m---> 29\u001b[0;31m \u001b[0mprint\u001b[0m\u001b[0;34m(\u001b[0m\u001b[0mreward_lsvi4\u001b[0m\u001b[0;34m[\u001b[0m\u001b[0;34m-\u001b[0m\u001b[0;36m10\u001b[0m\u001b[0;34m:\u001b[0m\u001b[0;34m-\u001b[0m\u001b[0;36m1\u001b[0m\u001b[0;34m]\u001b[0m\u001b[0;34m)\u001b[0m\u001b[0;34m\u001b[0m\u001b[0;34m\u001b[0m\u001b[0m\n\u001b[0m\u001b[1;32m     30\u001b[0m \u001b[0mprint\u001b[0m\u001b[0;34m(\u001b[0m\u001b[0mreward_lsvi4\u001b[0m\u001b[0;34m[\u001b[0m\u001b[0;34m-\u001b[0m\u001b[0;36m1\u001b[0m\u001b[0;34m]\u001b[0m \u001b[0;34m/\u001b[0m \u001b[0mnum_epi\u001b[0m\u001b[0;34m)\u001b[0m\u001b[0;34m\u001b[0m\u001b[0;34m\u001b[0m\u001b[0m\n\u001b[1;32m     31\u001b[0m \u001b[0;34m\u001b[0m\u001b[0m\n",
      "\u001b[0;31mNameError\u001b[0m: name 'reward_lsvi4' is not defined"
     ]
    }
   ],
   "source": [
    "\n",
    "\n"
   ]
  },
  {
   "cell_type": "code",
   "execution_count": null,
   "id": "1d387d2a",
   "metadata": {},
   "outputs": [],
   "source": []
  }
 ],
 "metadata": {
  "kernelspec": {
   "display_name": "Python 3",
   "language": "python",
   "name": "python3"
  },
  "language_info": {
   "codemirror_mode": {
    "name": "ipython",
    "version": 3
   },
   "file_extension": ".py",
   "mimetype": "text/x-python",
   "name": "python",
   "nbconvert_exporter": "python",
   "pygments_lexer": "ipython3",
   "version": "3.9.5"
  }
 },
 "nbformat": 4,
 "nbformat_minor": 5
}
